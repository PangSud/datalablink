{
 "cells": [
  {
   "cell_type": "code",
   "execution_count": 1,
   "id": "4efdb36a",
   "metadata": {},
   "outputs": [],
   "source": [
    "def say_hello():\n",
    "    print('hello')"
   ]
  },
  {
   "cell_type": "code",
   "execution_count": 2,
   "id": "7b503c05",
   "metadata": {},
   "outputs": [
    {
     "name": "stdout",
     "output_type": "stream",
     "text": [
      "hello\n"
     ]
    }
   ],
   "source": [
    "say_hello()"
   ]
  },
  {
   "cell_type": "code",
   "execution_count": 3,
   "id": "7e7bf3bf",
   "metadata": {},
   "outputs": [
    {
     "data": {
      "text/plain": [
       "<function __main__.say_hello()>"
      ]
     },
     "execution_count": 3,
     "metadata": {},
     "output_type": "execute_result"
    }
   ],
   "source": [
    "say_hello"
   ]
  },
  {
   "cell_type": "code",
   "execution_count": 5,
   "id": "4945d4c1",
   "metadata": {},
   "outputs": [],
   "source": [
    "def say_hello():\n",
    "    print('how')\n",
    "    print('are')\n",
    "    print('you?')"
   ]
  },
  {
   "cell_type": "code",
   "execution_count": 6,
   "id": "0255bfd6",
   "metadata": {},
   "outputs": [
    {
     "name": "stdout",
     "output_type": "stream",
     "text": [
      "how\n",
      "are\n",
      "you?\n"
     ]
    }
   ],
   "source": [
    "say_hello()"
   ]
  },
  {
   "cell_type": "code",
   "execution_count": 7,
   "id": "bf842fa0",
   "metadata": {},
   "outputs": [],
   "source": [
    "def say_hello(name):\n",
    "    print(f'hello {name}')"
   ]
  },
  {
   "cell_type": "code",
   "execution_count": 9,
   "id": "d7368559",
   "metadata": {},
   "outputs": [
    {
     "name": "stdout",
     "output_type": "stream",
     "text": [
      "hello hongy\n"
     ]
    }
   ],
   "source": [
    "say_hello('hongy')"
   ]
  },
  {
   "cell_type": "code",
   "execution_count": 10,
   "id": "8286a49e",
   "metadata": {},
   "outputs": [
    {
     "ename": "TypeError",
     "evalue": "say_hello() missing 1 required positional argument: 'name'",
     "output_type": "error",
     "traceback": [
      "\u001b[1;31m---------------------------------------------------------------------------\u001b[0m",
      "\u001b[1;31mTypeError\u001b[0m                                 Traceback (most recent call last)",
      "Cell \u001b[1;32mIn[10], line 1\u001b[0m\n\u001b[1;32m----> 1\u001b[0m say_hello()\n",
      "\u001b[1;31mTypeError\u001b[0m: say_hello() missing 1 required positional argument: 'name'"
     ]
    }
   ],
   "source": [
    "say_hello()"
   ]
  },
  {
   "cell_type": "code",
   "execution_count": 11,
   "id": "2187e81d",
   "metadata": {},
   "outputs": [],
   "source": [
    "def say_hello(name='DEFAULT'):\n",
    "    print(f'hello {name}')"
   ]
  },
  {
   "cell_type": "code",
   "execution_count": 13,
   "id": "3908fc59",
   "metadata": {},
   "outputs": [
    {
     "name": "stdout",
     "output_type": "stream",
     "text": [
      "hello DEFAULT\n"
     ]
    }
   ],
   "source": [
    "say_hello()"
   ]
  },
  {
   "cell_type": "code",
   "execution_count": 14,
   "id": "6d6be410",
   "metadata": {},
   "outputs": [],
   "source": [
    "def print_sum(num1,num2):\n",
    "    print(num1+num2)"
   ]
  },
  {
   "cell_type": "code",
   "execution_count": 15,
   "id": "cd6da5ef",
   "metadata": {},
   "outputs": [],
   "source": [
    "def return_sum(num1,num2):\n",
    "    return num1+num2"
   ]
  },
  {
   "cell_type": "code",
   "execution_count": 20,
   "id": "276e1c07",
   "metadata": {},
   "outputs": [
    {
     "name": "stdout",
     "output_type": "stream",
     "text": [
      "30\n"
     ]
    }
   ],
   "source": [
    "x = print_sum(10,20)"
   ]
  },
  {
   "cell_type": "code",
   "execution_count": 21,
   "id": "3ae6410f",
   "metadata": {},
   "outputs": [],
   "source": [
    "x"
   ]
  },
  {
   "cell_type": "code",
   "execution_count": 22,
   "id": "eaff7fef",
   "metadata": {},
   "outputs": [
    {
     "data": {
      "text/plain": [
       "NoneType"
      ]
     },
     "execution_count": 22,
     "metadata": {},
     "output_type": "execute_result"
    }
   ],
   "source": [
    "type(x)"
   ]
  },
  {
   "cell_type": "code",
   "execution_count": 23,
   "id": "e1b64d55",
   "metadata": {},
   "outputs": [],
   "source": [
    "y = return_sum(10,20)"
   ]
  },
  {
   "cell_type": "code",
   "execution_count": 24,
   "id": "551f88b4",
   "metadata": {},
   "outputs": [
    {
     "data": {
      "text/plain": [
       "30"
      ]
     },
     "execution_count": 24,
     "metadata": {},
     "output_type": "execute_result"
    }
   ],
   "source": [
    "y"
   ]
  },
  {
   "cell_type": "code",
   "execution_count": 25,
   "id": "4c65bb68",
   "metadata": {},
   "outputs": [],
   "source": [
    "def both_sum(num1,num2):\n",
    "    print(num1+num2)\n",
    "    return num1+num2"
   ]
  },
  {
   "cell_type": "code",
   "execution_count": 26,
   "id": "f33caf3c",
   "metadata": {},
   "outputs": [
    {
     "name": "stdout",
     "output_type": "stream",
     "text": [
      "30\n"
     ]
    }
   ],
   "source": [
    "z = both_sum(10,20)"
   ]
  },
  {
   "cell_type": "code",
   "execution_count": 27,
   "id": "75abe2a0",
   "metadata": {},
   "outputs": [
    {
     "data": {
      "text/plain": [
       "30"
      ]
     },
     "execution_count": 27,
     "metadata": {},
     "output_type": "execute_result"
    }
   ],
   "source": [
    "z"
   ]
  },
  {
   "cell_type": "code",
   "execution_count": 28,
   "id": "598c5818",
   "metadata": {},
   "outputs": [],
   "source": [
    "def sum_num(a,b):\n",
    "    return a+b"
   ]
  },
  {
   "cell_type": "code",
   "execution_count": 29,
   "id": "9152886f",
   "metadata": {},
   "outputs": [
    {
     "data": {
      "text/plain": [
       "30"
      ]
     },
     "execution_count": 29,
     "metadata": {},
     "output_type": "execute_result"
    }
   ],
   "source": [
    "sum_num(10,20)"
   ]
  },
  {
   "cell_type": "code",
   "execution_count": 30,
   "id": "bedcb533",
   "metadata": {},
   "outputs": [
    {
     "data": {
      "text/plain": [
       "'1020'"
      ]
     },
     "execution_count": 30,
     "metadata": {},
     "output_type": "execute_result"
    }
   ],
   "source": [
    "sum_num('10','20')"
   ]
  },
  {
   "cell_type": "code",
   "execution_count": null,
   "id": "f20401fa",
   "metadata": {},
   "outputs": [],
   "source": []
  }
 ],
 "metadata": {
  "kernelspec": {
   "display_name": "Python 3 (ipykernel)",
   "language": "python",
   "name": "python3"
  },
  "language_info": {
   "codemirror_mode": {
    "name": "ipython",
    "version": 3
   },
   "file_extension": ".py",
   "mimetype": "text/x-python",
   "name": "python",
   "nbconvert_exporter": "python",
   "pygments_lexer": "ipython3",
   "version": "3.11.5"
  }
 },
 "nbformat": 4,
 "nbformat_minor": 5
}
